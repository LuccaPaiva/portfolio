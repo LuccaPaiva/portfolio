{
  "nbformat": 4,
  "nbformat_minor": 0,
  "metadata": {
    "colab": {
      "provenance": [],
      "authorship_tag": "ABX9TyPp5zJLxYQ/VJKQk6rNMwDl",
      "include_colab_link": true
    },
    "kernelspec": {
      "name": "python3",
      "display_name": "Python 3"
    },
    "language_info": {
      "name": "python"
    }
  },
  "cells": [
    {
      "cell_type": "markdown",
      "metadata": {
        "id": "view-in-github",
        "colab_type": "text"
      },
      "source": [
        "<a href=\"https://colab.research.google.com/github/LuccaPaiva/portfolio/blob/main/letterboxd/letterboxd.ipynb\" target=\"_parent\"><img src=\"https://colab.research.google.com/assets/colab-badge.svg\" alt=\"Open In Colab\"/></a>"
      ]
    },
    {
      "cell_type": "code",
      "execution_count": null,
      "metadata": {
        "id": "-1GFBy4eKGJs",
        "colab": {
          "base_uri": "https://localhost:8080/"
        },
        "outputId": "49be6664-da30-4e8c-f162-26dcaf3d0693"
      },
      "outputs": [
        {
          "output_type": "stream",
          "name": "stdout",
          "text": [
            "Requirement already satisfied: basemap in /usr/local/lib/python3.10/dist-packages (1.4.1)\n",
            "Requirement already satisfied: basemap-data<1.4,>=1.3.2 in /usr/local/lib/python3.10/dist-packages (from basemap) (1.3.2)\n",
            "Requirement already satisfied: pyshp<2.4,>=1.2 in /usr/local/lib/python3.10/dist-packages (from basemap) (2.3.1)\n",
            "Requirement already satisfied: matplotlib<3.9,>=1.5 in /usr/local/lib/python3.10/dist-packages (from basemap) (3.7.1)\n",
            "Requirement already satisfied: pyproj<3.7.0,>=1.9.3 in /usr/local/lib/python3.10/dist-packages (from basemap) (3.6.1)\n",
            "Requirement already satisfied: packaging<24.0,>=16.0 in /usr/local/lib/python3.10/dist-packages (from basemap) (23.2)\n",
            "Requirement already satisfied: numpy<1.27,>=1.21 in /usr/local/lib/python3.10/dist-packages (from basemap) (1.25.2)\n",
            "Requirement already satisfied: contourpy>=1.0.1 in /usr/local/lib/python3.10/dist-packages (from matplotlib<3.9,>=1.5->basemap) (1.2.1)\n",
            "Requirement already satisfied: cycler>=0.10 in /usr/local/lib/python3.10/dist-packages (from matplotlib<3.9,>=1.5->basemap) (0.12.1)\n",
            "Requirement already satisfied: fonttools>=4.22.0 in /usr/local/lib/python3.10/dist-packages (from matplotlib<3.9,>=1.5->basemap) (4.53.0)\n",
            "Requirement already satisfied: kiwisolver>=1.0.1 in /usr/local/lib/python3.10/dist-packages (from matplotlib<3.9,>=1.5->basemap) (1.4.5)\n",
            "Requirement already satisfied: pillow>=6.2.0 in /usr/local/lib/python3.10/dist-packages (from matplotlib<3.9,>=1.5->basemap) (9.4.0)\n",
            "Requirement already satisfied: pyparsing>=2.3.1 in /usr/local/lib/python3.10/dist-packages (from matplotlib<3.9,>=1.5->basemap) (3.1.2)\n",
            "Requirement already satisfied: python-dateutil>=2.7 in /usr/local/lib/python3.10/dist-packages (from matplotlib<3.9,>=1.5->basemap) (2.8.2)\n",
            "Requirement already satisfied: certifi in /usr/local/lib/python3.10/dist-packages (from pyproj<3.7.0,>=1.9.3->basemap) (2024.6.2)\n",
            "Requirement already satisfied: six>=1.5 in /usr/local/lib/python3.10/dist-packages (from python-dateutil>=2.7->matplotlib<3.9,>=1.5->basemap) (1.16.0)\n"
          ]
        }
      ],
      "source": [
        "\n",
        "#import letterboxd\n",
        "#utils\n",
        "import pandas as pd\n",
        "import matplotlib.pyplot as plt\n",
        "import numpy as np\n",
        "from ast import literal_eval\n",
        "\n",
        "#html\n",
        "import requests\n",
        "from bs4 import BeautifulSoup\n",
        "import json\n",
        "\n",
        "#gsheets\n",
        "from google.colab import auth\n",
        "from gspread_dataframe import set_with_dataframe\n",
        "import gspread\n",
        "import gspread_dataframe as gdf\n",
        "from google.auth import default\n",
        "\n",
        "#map\n",
        "from matplotlib.patches import Polygon\n",
        "!pip install basemap\n",
        "from mpl_toolkits.basemap import Basemap\n",
        "import geopandas as gpd\n",
        "from shapely.geometry import Point\n",
        "import matplotlib\n",
        "import matplotlib.colors as mcolors\n",
        "import matplotlib.cm as cm"
      ]
    },
    {
      "cell_type": "markdown",
      "source": [
        "## Auth"
      ],
      "metadata": {
        "id": "R9LLaqWCi57p"
      }
    },
    {
      "cell_type": "code",
      "source": [
        "#nome_de_usuario = \"BeyBlade\"\n",
        "auth.authenticate_user()\n",
        "creds, _ = default()"
      ],
      "metadata": {
        "id": "w_Z4KP_rKZir"
      },
      "execution_count": null,
      "outputs": []
    },
    {
      "cell_type": "markdown",
      "source": [
        "Setting Spreadsheet"
      ],
      "metadata": {
        "id": "Nkc1ln-xjF4y"
      }
    },
    {
      "cell_type": "code",
      "source": [
        "gc = gspread.authorize(creds)\n",
        "lbxd_spreadsheet = gc.open(\"letterboxd\")"
      ],
      "metadata": {
        "id": "l2CWnE_4LcDw"
      },
      "execution_count": null,
      "outputs": []
    },
    {
      "cell_type": "markdown",
      "source": [
        "## Data"
      ],
      "metadata": {
        "id": "t4X9niq2jJCH"
      }
    },
    {
      "cell_type": "markdown",
      "source": [
        "### Import"
      ],
      "metadata": {
        "id": "IjnQdJ99jMDH"
      }
    },
    {
      "cell_type": "code",
      "source": [
        "def get_diary():\n",
        "  diary_worksheet = lbxd_spreadsheet.worksheet(\"diary\")\n",
        "  diary = pd.DataFrame(diary_worksheet.get_all_records())\n",
        "  diary.rename(columns={'Letterboxd URI': 'Review URI'}, inplace=True)\n",
        "  #diary.rename(columns={'Date': 'Log Date'}, inplace=True)\n",
        "\n",
        "  return diary"
      ],
      "metadata": {
        "id": "SNhTVng_i_Uf"
      },
      "execution_count": null,
      "outputs": []
    },
    {
      "cell_type": "code",
      "source": [
        "def get_watched():\n",
        "  watched_worksheet = lbxd_spreadsheet.worksheet(\"watched\")\n",
        "  watched = pd.DataFrame(watched_worksheet.get_all_records())\n",
        "  #watched.rename(columns={'Date': 'Date'}, inplace=True)\n",
        "  return watched"
      ],
      "metadata": {
        "id": "Ei8xHNhzYEBN"
      },
      "execution_count": null,
      "outputs": []
    },
    {
      "cell_type": "markdown",
      "source": [
        "## Data Manipulation"
      ],
      "metadata": {
        "id": "LS4KcUv7jSQS"
      }
    },
    {
      "cell_type": "code",
      "source": [
        "genre_retirieved = False\n",
        "try:\n",
        "  data_worksheet = lbxd_spreadsheet.worksheet(\"data\")\n",
        "  merged_df = pd.DataFrame(data_worksheet.get_all_records())\n",
        "  country_retrieved = True\n",
        "except:\n",
        "  diary = get_diary()\n",
        "  watched = get_watched()\n",
        "  merged_df = pd.merge(diary, watched, on=['Name', \"Year\"])\n",
        "  country_retrieved = False\n",
        "  genre_retirieved = False\n",
        "merged_df, country_retrieved"
      ],
      "metadata": {
        "colab": {
          "base_uri": "https://localhost:8080/"
        },
        "id": "nvn2CXjhZYcY",
        "outputId": "e0c6c734-c6fe-428e-ec95-4bc219ebee1a"
      },
      "execution_count": null,
      "outputs": [
        {
          "output_type": "execute_result",
          "data": {
            "text/plain": [
              "(         Date_x                             Name  Year  \\\n",
              " 0    2020-08-31                     Palm Springs  2020   \n",
              " 1    2020-08-31                         Sertânia  2019   \n",
              " 2    2020-08-31                          Arrival  2016   \n",
              " 3    2020-08-31                      Da 5 Bloods  2020   \n",
              " 4    2020-08-31                       Game Night  2018   \n",
              " ..          ...                              ...   ...   \n",
              " 387  2024-05-21                      Challengers  2024   \n",
              " 388  2024-05-21  It's a Mad, Mad, Mad, Mad World  1963   \n",
              " 389  2024-05-30                     The Hot Rock  1972   \n",
              " 390  2024-06-01                       La Chimera  2023   \n",
              " 391  2024-06-05                        Barbarian  2022   \n",
              " \n",
              "                  Review URI Rating Rewatch                   Tags  \\\n",
              " 0    https://boxd.it/1kuvvH     35     Yes              fun, leve   \n",
              " 1    https://boxd.it/1ktSDd      4                       denso, ?   \n",
              " 2    https://boxd.it/1ktS1X      5                                  \n",
              " 3    https://boxd.it/1ktSlj      3                                  \n",
              " 4    https://boxd.it/1kutiL     45          fun, plot twist, leve   \n",
              " ..                      ...    ...     ...                    ...   \n",
              " 387  https://boxd.it/6vJ30b     45                                  \n",
              " 388  https://boxd.it/6vYhVZ      4                                  \n",
              " 389  https://boxd.it/6zDi1n      4                                  \n",
              " 390  https://boxd.it/6AkRcr      4                                  \n",
              " 391  https://boxd.it/6C0gzr      3                                  \n",
              " \n",
              "     Watched Date      Date_y        Letterboxd URI  \\\n",
              " 0     2020-08-20  2020-08-31  https://boxd.it/lCXQ   \n",
              " 1     2020-08-21  2020-08-31  https://boxd.it/lUhS   \n",
              " 2     2020-08-29  2020-08-31  https://boxd.it/aNGk   \n",
              " 3     2020-08-29  2020-08-31  https://boxd.it/lnXw   \n",
              " 4     2020-08-31  2020-08-31  https://boxd.it/fRtu   \n",
              " ..           ...         ...                   ...   \n",
              " 387   2024-05-19  2024-05-21  https://boxd.it/zld0   \n",
              " 388   2024-05-20  2024-05-21  https://boxd.it/1TvO   \n",
              " 389   2024-05-27  2024-05-30   https://boxd.it/O2U   \n",
              " 390   2024-05-30  2024-06-01  https://boxd.it/vzVi   \n",
              " 391   2024-05-31  2024-06-05  https://boxd.it/yohi   \n",
              " \n",
              "                                           Country  \\\n",
              " 0                                         ['USA']   \n",
              " 1                                      ['Brazil']   \n",
              " 2                                         ['USA']   \n",
              " 3                                         ['USA']   \n",
              " 4                                         ['USA']   \n",
              " ..                                            ...   \n",
              " 387                              ['Italy', 'USA']   \n",
              " 388                                       ['USA']   \n",
              " 389                                       ['USA']   \n",
              " 390  ['France', 'Italy', 'Switzerland', 'Turkey']   \n",
              " 391                                       ['USA']   \n",
              " \n",
              "                                           Genres  \n",
              " 0       ['Romance', 'Science Fiction', 'Comedy']  \n",
              " 1                ['History', 'Western', 'Drama']  \n",
              " 2        ['Science Fiction', 'Mystery', 'Drama']  \n",
              " 3                               ['Drama', 'War']  \n",
              " 4                 ['Crime', 'Mystery', 'Comedy']  \n",
              " ..                                           ...  \n",
              " 387                         ['Drama', 'Romance']  \n",
              " 388            ['Action', 'Comedy', 'Adventure']  \n",
              " 389                          ['Comedy', 'Crime']  \n",
              " 390  ['Comedy', 'Adventure', 'Drama', 'Fantasy']  \n",
              " 391            ['Mystery', 'Thriller', 'Horror']  \n",
              " \n",
              " [392 rows x 12 columns],\n",
              " True)"
            ]
          },
          "metadata": {},
          "execution_count": 36
        }
      ]
    },
    {
      "cell_type": "code",
      "source": [
        "def get_movie_country(movie_url = \"https://boxd.it/vzVi\"):\n",
        "  response = requests.get(movie_url)\n",
        "  html_content = response.content\n",
        "  soup = BeautifulSoup(html_content, \"html.parser\")\n",
        "  target_element = soup.find(id=\"tabbed-content\")\n",
        "  target_elements = target_element.select(\"a[href*='/films/country/']\")\n",
        "  country = []\n",
        "  for element in target_elements:\n",
        "    country.append(element.text)\n",
        "  return country\n",
        "\n",
        "print(get_movie_country())"
      ],
      "metadata": {
        "id": "HWuOmzmKbNpm",
        "colab": {
          "base_uri": "https://localhost:8080/"
        },
        "outputId": "29f0e164-7d1d-4312-d5b5-8465b1a6f82d"
      },
      "execution_count": null,
      "outputs": [
        {
          "output_type": "stream",
          "name": "stdout",
          "text": [
            "['France', 'Italy', 'Switzerland', 'Turkey']\n"
          ]
        }
      ]
    },
    {
      "cell_type": "code",
      "source": [
        "def get_movie_genres(movie_url = \"https://boxd.it/vzVi\"):\n",
        "  response = requests.get(movie_url)\n",
        "  html_content = response.content\n",
        "  soup = BeautifulSoup(html_content, \"html.parser\")\n",
        "  target_element = soup.find(id=\"tabbed-content\")\n",
        "  target_elements = target_element.select(\"a[href*='/films/genre/']\")\n",
        "  genres = []\n",
        "  for element in target_elements:\n",
        "    genres.append(element.text)\n",
        "  return genres\n",
        "\n",
        "print(get_movie_genres())"
      ],
      "metadata": {
        "colab": {
          "base_uri": "https://localhost:8080/"
        },
        "id": "Cb2ZKhsBbjz9",
        "outputId": "cacfd393-1802-4c2a-d87b-1a0734443f06"
      },
      "execution_count": null,
      "outputs": [
        {
          "output_type": "stream",
          "name": "stdout",
          "text": [
            "['Comedy', 'Adventure', 'Drama', 'Fantasy']\n"
          ]
        }
      ]
    },
    {
      "cell_type": "code",
      "source": [
        "if not country_retrieved:\n",
        "  movie_countries = []\n",
        "\n",
        "  # Loop through each movie URL in the dataframe\n",
        "  for movie_url in merged_df['Letterboxd URI']:\n",
        "    # Get the countries for the current movie\n",
        "    countries = get_movie_country(movie_url)\n",
        "    # Append the countries to the list\n",
        "    movie_countries.append(countries)\n",
        "\n",
        "  # Add a new column named \"Country\" to the dataframe\n",
        "  merged_df['Country'] = movie_countries\n",
        "\n",
        "  data_worksheet = lbxd_spreadsheet.worksheet(\"data\")\n",
        "  set_with_dataframe(worksheet=data_worksheet, dataframe=merged_df, include_index=False, include_column_header=True, resize=True)\n",
        "\n",
        "  merged_df\n",
        "\n",
        "if not genre_retirieved:\n",
        "  movie_genres = []\n",
        "\n",
        "  # Loop through each movie URL in the dataframe\n",
        "  for movie_url in merged_df['Letterboxd URI']:\n",
        "    # Get the countries for the current movie\n",
        "    genres = get_movie_genres(movie_url)\n",
        "    # Append the countries to the list\n",
        "    movie_genres.append(genres)\n",
        "\n",
        "  # Add a new column named \"Country\" to the dataframe\n",
        "  merged_df['Genres'] = movie_genres\n",
        "\n",
        "if not country_retrieved or not genre_retirieved:\n",
        "  data_worksheet = lbxd_spreadsheet.worksheet(\"data\")\n",
        "  set_with_dataframe(worksheet=data_worksheet, dataframe=merged_df, include_index=False, include_column_header=True, resize=True)\n",
        "\n",
        "  merged_df"
      ],
      "metadata": {
        "id": "xvCy13OZrQKY"
      },
      "execution_count": null,
      "outputs": []
    },
    {
      "cell_type": "markdown",
      "source": [
        "## Data Visualization"
      ],
      "metadata": {
        "id": "2LFuFfijmd24"
      }
    },
    {
      "cell_type": "code",
      "source": [
        "movie_by_year = merged_df['Year'].value_counts().sort_index()\n",
        "\n",
        "fig = plt.figure()\n",
        "plt.plot(movie_by_year)\n",
        "plt.title(\"Watched Movies By Year of Release\")\n",
        "plt.xlabel(\"Year of Release\")\n",
        "plt.ylabel(\"Number of watched movies\")\n",
        "plt.show()"
      ],
      "metadata": {
        "colab": {
          "base_uri": "https://localhost:8080/",
          "height": 472
        },
        "id": "rnjO0qEfZMHL",
        "outputId": "42dc3d73-b9e8-48a9-9205-e594b1f0e7e9"
      },
      "execution_count": null,
      "outputs": [
        {
          "output_type": "display_data",
          "data": {
            "text/plain": [
              "<Figure size 640x480 with 1 Axes>"
            ],
            "image/png": "[encoded data removed]"
          },
          "metadata": {}
        }
      ]
    },
    {
      "source": [
        "merged_df['Year'].plot(kind='hist', title='Year', bins=range(min(merged_df['Year']), max(merged_df['Year'])+1, 5))\n",
        "plt.gca().spines[['top', 'right']].set_visible(False)"
      ],
      "cell_type": "code",
      "metadata": {
        "colab": {
          "base_uri": "https://localhost:8080/",
          "height": 452
        },
        "id": "fNL18N35SdR0",
        "outputId": "e229d095-2eae-44d8-c1d2-47ff7bae6a92"
      },
      "execution_count": null,
      "outputs": [
        {
          "output_type": "display_data",
          "data": {
            "text/plain": [
              "<Figure size 640x480 with 1 Axes>"
            ],
            "image/png": "[encoded data removed]"
          },
          "metadata": {}
        }
      ]
    },
    {
      "cell_type": "code",
      "source": [
        "def movie_count(tag):\n",
        "  movie_count = {}\n",
        "  for collection in merged_df[tag]:\n",
        "    print(collection)\n",
        "    c = literal_eval(collection)\n",
        "    for item in c:\n",
        "        if item in movie_count:\n",
        "          movie_count[item] += 1\n",
        "        else:\n",
        "          movie_count[item] = 1\n",
        "  return movie_count\n",
        "\n",
        "movie_count_by_country = movie_count('Country')\n",
        "movie_count_by_genre = movie_count('Genres')\n",
        "movie_count_by_country, movie_count_by_genre\n"
      ],
      "metadata": {
        "id": "7nKAxOTgvJ6K",
        "colab": {
          "base_uri": "https://localhost:8080/",
          "height": 1000
        },
        "outputId": "7c57d212-98e0-432d-94b5-991ad1fb6183"
      },
      "execution_count": null,
      "outputs": [
        {
          "output_type": "stream",
          "name": "stdout",
          "text": [
            "['USA']\n",
            "['Brazil']\n",
            "['USA']\n",
            "['USA']\n",
            "['USA']\n",
            "['Japan', 'UK', 'USA']\n",
            "['USA']\n",
            "['China', 'Hong Kong']\n",
            "['Indonesia', 'USA']\n",
            "['Indonesia', 'USA']\n",
            "['USA']\n",
            "['Canada', 'USA']\n",
            "['USA']\n",
            "['USA']\n",
            "['USA']\n",
            "['USA']\n",
            "['USA']\n",
            "['USA']\n",
            "['Poland']\n",
            "['USA']\n",
            "['Japan']\n",
            "['South Korea']\n",
            "['USA']\n",
            "['Japan']\n",
            "['Thailand']\n",
            "['Hong Kong']\n",
            "['Hong Kong']\n",
            "['Japan']\n",
            "['USA']\n",
            "['USA']\n",
            "['Hong Kong', 'Netherlands', 'Singapore']\n",
            "['New Zealand', 'USA']\n",
            "['Japan']\n",
            "['UK', 'USA']\n",
            "['Australia', 'USA']\n",
            "['Australia', 'USA']\n",
            "['France', 'UK', 'USA']\n",
            "['China', 'USA', 'Hong Kong']\n",
            "['USA']\n",
            "['Malaysia', 'Portugal', 'USA']\n",
            "['USA']\n",
            "['USA']\n",
            "['France', 'Greece', 'Ireland', 'Netherlands', 'UK']\n",
            "['USA', 'Japan', 'Singapore', 'South Korea']\n",
            "['USA']\n",
            "['USA']\n",
            "['USA']\n",
            "['USA']\n",
            "['China']\n",
            "['USA']\n",
            "['USA']\n",
            "['USA']\n",
            "['China']\n",
            "['USA', 'Canada']\n",
            "['Japan']\n",
            "['USA']\n",
            "['USA']\n",
            "['Japan']\n",
            "['Brazil', 'France']\n",
            "['USA']\n",
            "['UK', 'USA']\n",
            "['Brazil', 'France']\n",
            "['USA']\n",
            "['UK', 'USA']\n",
            "['USA']\n",
            "['USA']\n",
            "['USA']\n",
            "['Japan']\n",
            "['USA']\n",
            "['Hong Kong']\n",
            "['USA']\n",
            "['Hong Kong']\n",
            "['USA']\n",
            "['USA']\n",
            "['Hong Kong']\n",
            "['USA']\n",
            "['USA']\n",
            "['China', 'Hong Kong', 'Taiwan', 'USA']\n",
            "['USA']\n",
            "['USA']\n",
            "['USA']\n",
            "['USA']\n",
            "['USA']\n",
            "['USA']\n",
            "['USA']\n",
            "['USA']\n",
            "['USA']\n",
            "['USA']\n",
            "['Denmark', 'Netherlands', 'Sweden']\n",
            "['USA']\n",
            "['USA']\n",
            "['USA']\n",
            "['USA']\n",
            "['USA']\n",
            "['USA']\n",
            "['USA']\n",
            "['USA']\n",
            "['Spain']\n",
            "['Austria', 'France', 'Germany', 'Italy']\n",
            "['Belgium', 'France', 'USA']\n",
            "['Hong Kong', 'USA']\n",
            "['USA']\n",
            "['USA']\n",
            "['USA']\n",
            "['USA']\n",
            "['Denmark', 'Sweden']\n",
            "['Canada', 'USA']\n",
            "['China']\n",
            "['China']\n",
            "['USA']\n",
            "['USA']\n",
            "['Japan']\n",
            "['France']\n",
            "['USA']\n",
            "['Hong Kong']\n",
            "['Canada', 'USA']\n",
            "['USA']\n",
            "['USA']\n",
            "['Japan']\n",
            "['USA']\n",
            "['USA']\n",
            "['USA']\n",
            "['USA']\n",
            "['China']\n",
            "['China', 'USA']\n",
            "['UK', 'USA']\n",
            "['UK', 'USA']\n",
            "['UK', 'USA']\n",
            "['UK', 'USA']\n",
            "['USA']\n",
            "['Ireland', 'UK', 'USA']\n",
            "['Japan']\n",
            "['UK', 'USA']\n",
            "['UK', 'USA']\n",
            "['Spain', 'UK', 'USA']\n",
            "['UK', 'USA']\n",
            "['UK', 'USA', 'Ireland']\n",
            "['USA']\n",
            "['USA']\n",
            "['USA']\n",
            "['UK', 'USA']\n",
            "['USA']\n",
            "['Brazil']\n",
            "['USA']\n",
            "['USA']\n",
            "['Canada', 'USA']\n",
            "['USA']\n",
            "['UK']\n",
            "['Poland', 'South Korea', 'USA']\n",
            "['USA']\n",
            "['Brazil', 'Italy']\n",
            "['Brazil', 'Italy']\n",
            "['USA']\n",
            "['Denmark', 'Sweden']\n",
            "['Hong Kong']\n",
            "['Canada', 'Ireland', 'USA']\n",
            "['Brazil']\n",
            "['France']\n",
            "['USA']\n",
            "['USA']\n",
            "['USA']\n",
            "['Denmark', 'Finland', 'Sweden', 'USA']\n",
            "['USA']\n",
            "['USA']\n",
            "['USA']\n",
            "['USA']\n",
            "['USA']\n",
            "['USA']\n",
            "['USA']\n",
            "['USA']\n",
            "['USA']\n",
            "['USA']\n",
            "['USA']\n",
            "['USA']\n",
            "['USA']\n",
            "['China']\n",
            "['China']\n",
            "['UK', 'USA']\n",
            "['Canada', 'UK', 'USA']\n",
            "['China']\n",
            "['Belgium', 'France', 'Germany', 'Greece', 'Japan', 'Mexico', 'Switzerland']\n",
            "['Denmark', 'France', 'Norway', 'Sweden']\n",
            "['France', 'UK', 'USA']\n",
            "['China', 'USA']\n",
            "['USA', 'Japan']\n",
            "['USA']\n",
            "['Chile', 'Germany', 'UK', 'USA']\n",
            "['USA']\n",
            "['Finland', 'USA']\n",
            "['Hong Kong', 'USA']\n",
            "['USA']\n",
            "['UK']\n",
            "['UK', 'USA']\n",
            "['UK']\n",
            "['USA']\n",
            "['Germany', 'USA']\n",
            "['Germany', 'USA']\n",
            "['USA']\n",
            "['Japan']\n",
            "['USA']\n",
            "['UK', 'USA']\n",
            "['Belgium', 'France']\n",
            "['USA']\n",
            "['USA']\n",
            "['USA']\n",
            "['Japan']\n",
            "['USA']\n",
            "['Brazil', 'Chile', 'Argentina', 'Spain']\n",
            "['USA']\n",
            "['Japan', 'USA']\n",
            "['Denmark', 'Sweden']\n",
            "['USA']\n",
            "['USA']\n",
            "['USA']\n",
            "['USA']\n",
            "['USA']\n",
            "['USA']\n",
            "['USA']\n",
            "['India', 'Spain', 'UK', 'USA']\n",
            "['USA']\n",
            "['USA']\n",
            "['USA']\n",
            "['India']\n",
            "['Japan']\n",
            "['USA']\n",
            "['USA']\n",
            "['UK']\n",
            "['UK', 'USA']\n",
            "['USSR']\n",
            "['USA']\n",
            "['USA']\n",
            "['USA']\n",
            "['USA']\n",
            "['Brazil']\n",
            "['USA']\n",
            "['USA']\n",
            "['USA']\n",
            "['USA']\n",
            "['USA', 'Canada']\n",
            "['Belgium', 'France']\n",
            "['USA']\n",
            "['USA']\n",
            "['USA']\n",
            "['USA']\n",
            "['USA']\n",
            "['Canada']\n",
            "['USA']\n",
            "['USA']\n",
            "['USA']\n",
            "['USA']\n",
            "['USA']\n",
            "['USA']\n",
            "['Denmark', 'France', 'Germany', 'Greece', 'Mexico', 'Sweden', 'Switzerland', 'Turkey', 'UK', 'USA']\n",
            "['UK', 'USA']\n",
            "['UK', 'USA']\n",
            "['South Korea']\n",
            "['South Korea']\n",
            "['USA']\n",
            "['USA']\n",
            "['USA']\n",
            "['USA']\n",
            "['Argentina', 'UK']\n",
            "['USA']\n",
            "['USA']\n",
            "['USA']\n",
            "['USA']\n",
            "['China', 'Hong Kong', 'Australia']\n",
            "['USA']\n",
            "['USA']\n",
            "['USA']\n",
            "['Japan']\n",
            "['USA']\n",
            "['Japan']\n",
            "['USA']\n",
            "['China', 'France', 'Ireland', 'Luxembourg', 'USA']\n",
            "['USA']\n",
            "['USA']\n",
            "['Italy', 'Algeria']\n",
            "['New Zealand', 'USA']\n",
            "['New Zealand', 'USA']\n",
            "['Canada', 'France']\n",
            "['USA']\n",
            "['USA']\n",
            "['USA']\n",
            "['Brazil']\n",
            "['Japan']\n",
            "['UK', 'USA']\n",
            "['Japan', 'USA']\n",
            "['Brazil', 'USA']\n",
            "['USA']\n",
            "['Hong Kong']\n",
            "['USA', 'Germany']\n",
            "['USA']\n",
            "['USA']\n",
            "['USA']\n",
            "['USA']\n",
            "['Italy']\n",
            "[]\n",
            "['USA']\n",
            "['Australia', 'Denmark', 'USA']\n",
            "['USA']\n",
            "['USA']\n",
            "['USA']\n",
            "['USA']\n",
            "['Japan']\n",
            "['UK', 'USA']\n",
            "['USA']\n",
            "['Germany', 'USA']\n",
            "['UK', 'USA']\n",
            "['USA']\n",
            "['France', 'Germany']\n",
            "['USA']\n",
            "['Canada', 'USA']\n",
            "['UK', 'USA']\n",
            "['Brazil']\n",
            "['USA']\n",
            "['Albania', 'Kosovo', 'North Macedonia', 'Switzerland']\n",
            "['USA']\n",
            "['USA']\n",
            "['UK', 'USA']\n",
            "['UK', 'USA']\n",
            "['USA']\n",
            "['USA']\n",
            "['USA']\n",
            "['China', 'Hong Kong']\n",
            "['USA']\n",
            "['Japan']\n",
            "['USA']\n",
            "['Brazil']\n",
            "['France', 'Poland', 'Switzerland']\n",
            "['Japan']\n",
            "['USA']\n",
            "['USA']\n",
            "['USA']\n",
            "['USA']\n",
            "['Japan', 'UK', 'USA']\n",
            "['USA']\n",
            "['USA']\n",
            "['USA']\n",
            "['USA']\n",
            "['Japan']\n",
            "['South Korea', 'USA']\n",
            "['Belgium', 'Denmark', 'France', 'Ireland', 'Luxembourg', 'UK']\n",
            "['USA']\n",
            "['USA']\n",
            "['UK', 'USA']\n",
            "['USA']\n",
            "['USA']\n",
            "['USA']\n",
            "['USA']\n",
            "['Hong Kong', 'USA']\n",
            "['Hong Kong', 'USA']\n",
            "['USA']\n",
            "['USA']\n",
            "['UK', 'USA']\n",
            "['USA']\n",
            "['USA']\n",
            "['Japan']\n",
            "['Australia', 'Denmark', 'USA']\n",
            "['USA']\n",
            "['USA']\n",
            "['Japan']\n",
            "['USA']\n",
            "['UK']\n",
            "['Ireland', 'UK', 'USA']\n",
            "['Brazil']\n",
            "['Germany', 'UK']\n",
            "['Greece', 'UK', 'USA']\n",
            "['USA']\n",
            "['Japan']\n",
            "['USA']\n",
            "['USA']\n",
            "['Czechoslovakia']\n",
            "['Brazil']\n",
            "['Germany', 'Japan']\n",
            "['Brazil', 'Germany']\n",
            "['USA']\n",
            "[]\n",
            "[]\n",
            "[]\n",
            "['Germany', 'USA']\n",
            "['UK', 'USA']\n",
            "['UK', 'USA']\n",
            "['USA']\n",
            "['Australia', 'United Arab Emirates', 'USA']\n",
            "['France', 'Italy']\n",
            "['USA']\n",
            "['Italy', 'USA']\n",
            "['USA']\n",
            "['USA']\n",
            "['France', 'Italy', 'Switzerland', 'Turkey']\n",
            "['USA']\n",
            "['Romance', 'Science Fiction', 'Comedy']\n"
          ]
        },
        {
          "output_type": "error",
          "ename": "ValueError",
          "evalue": "malformed node or string: ['Romance', 'Science Fiction', 'Comedy']",
          "traceback": [
            "\u001b[0;31m---------------------------------------------------------------------------\u001b[0m",
            "\u001b[0;31mValueError\u001b[0m                                Traceback (most recent call last)",
            "\u001b[0;32m<ipython-input-42-1163c4a7df9d>\u001b[0m in \u001b[0;36m<cell line: 14>\u001b[0;34m()\u001b[0m\n\u001b[1;32m     12\u001b[0m \u001b[0;34m\u001b[0m\u001b[0m\n\u001b[1;32m     13\u001b[0m \u001b[0mmovie_count_by_country\u001b[0m \u001b[0;34m=\u001b[0m \u001b[0mmovie_count\u001b[0m\u001b[0;34m(\u001b[0m\u001b[0;34m'Country'\u001b[0m\u001b[0;34m)\u001b[0m\u001b[0;34m\u001b[0m\u001b[0;34m\u001b[0m\u001b[0m\n\u001b[0;32m---> 14\u001b[0;31m \u001b[0mmovie_count_by_genre\u001b[0m \u001b[0;34m=\u001b[0m \u001b[0mmovie_count\u001b[0m\u001b[0;34m(\u001b[0m\u001b[0;34m'Genres'\u001b[0m\u001b[0;34m)\u001b[0m\u001b[0;34m\u001b[0m\u001b[0;34m\u001b[0m\u001b[0m\n\u001b[0m\u001b[1;32m     15\u001b[0m \u001b[0mmovie_count_by_country\u001b[0m\u001b[0;34m,\u001b[0m \u001b[0mmovie_count_by_genre\u001b[0m\u001b[0;34m\u001b[0m\u001b[0;34m\u001b[0m\u001b[0m\n",
            "\u001b[0;32m<ipython-input-42-1163c4a7df9d>\u001b[0m in \u001b[0;36mmovie_count\u001b[0;34m(tag)\u001b[0m\n\u001b[1;32m      3\u001b[0m   \u001b[0;32mfor\u001b[0m \u001b[0mcollection\u001b[0m \u001b[0;32min\u001b[0m \u001b[0mmerged_df\u001b[0m\u001b[0;34m[\u001b[0m\u001b[0mtag\u001b[0m\u001b[0;34m]\u001b[0m\u001b[0;34m:\u001b[0m\u001b[0;34m\u001b[0m\u001b[0;34m\u001b[0m\u001b[0m\n\u001b[1;32m      4\u001b[0m     \u001b[0mprint\u001b[0m\u001b[0;34m(\u001b[0m\u001b[0mcollection\u001b[0m\u001b[0;34m)\u001b[0m\u001b[0;34m\u001b[0m\u001b[0;34m\u001b[0m\u001b[0m\n\u001b[0;32m----> 5\u001b[0;31m     \u001b[0mc\u001b[0m \u001b[0;34m=\u001b[0m \u001b[0mliteral_eval\u001b[0m\u001b[0;34m(\u001b[0m\u001b[0mcollection\u001b[0m\u001b[0;34m)\u001b[0m\u001b[0;34m\u001b[0m\u001b[0;34m\u001b[0m\u001b[0m\n\u001b[0m\u001b[1;32m      6\u001b[0m     \u001b[0;32mfor\u001b[0m \u001b[0mitem\u001b[0m \u001b[0;32min\u001b[0m \u001b[0mc\u001b[0m\u001b[0;34m:\u001b[0m\u001b[0;34m\u001b[0m\u001b[0;34m\u001b[0m\u001b[0m\n\u001b[1;32m      7\u001b[0m         \u001b[0;32mif\u001b[0m \u001b[0mitem\u001b[0m \u001b[0;32min\u001b[0m \u001b[0mmovie_count\u001b[0m\u001b[0;34m:\u001b[0m\u001b[0;34m\u001b[0m\u001b[0;34m\u001b[0m\u001b[0m\n",
            "\u001b[0;32m/usr/lib/python3.10/ast.py\u001b[0m in \u001b[0;36mliteral_eval\u001b[0;34m(node_or_string)\u001b[0m\n\u001b[1;32m    108\u001b[0m                     \u001b[0;32mreturn\u001b[0m \u001b[0mleft\u001b[0m \u001b[0;34m-\u001b[0m \u001b[0mright\u001b[0m\u001b[0;34m\u001b[0m\u001b[0;34m\u001b[0m\u001b[0m\n\u001b[1;32m    109\u001b[0m         \u001b[0;32mreturn\u001b[0m \u001b[0m_convert_signed_num\u001b[0m\u001b[0;34m(\u001b[0m\u001b[0mnode\u001b[0m\u001b[0;34m)\u001b[0m\u001b[0;34m\u001b[0m\u001b[0;34m\u001b[0m\u001b[0m\n\u001b[0;32m--> 110\u001b[0;31m     \u001b[0;32mreturn\u001b[0m \u001b[0m_convert\u001b[0m\u001b[0;34m(\u001b[0m\u001b[0mnode_or_string\u001b[0m\u001b[0;34m)\u001b[0m\u001b[0;34m\u001b[0m\u001b[0;34m\u001b[0m\u001b[0m\n\u001b[0m\u001b[1;32m    111\u001b[0m \u001b[0;34m\u001b[0m\u001b[0m\n\u001b[1;32m    112\u001b[0m \u001b[0;34m\u001b[0m\u001b[0m\n",
            "\u001b[0;32m/usr/lib/python3.10/ast.py\u001b[0m in \u001b[0;36m_convert\u001b[0;34m(node)\u001b[0m\n\u001b[1;32m    107\u001b[0m                 \u001b[0;32melse\u001b[0m\u001b[0;34m:\u001b[0m\u001b[0;34m\u001b[0m\u001b[0;34m\u001b[0m\u001b[0m\n\u001b[1;32m    108\u001b[0m                     \u001b[0;32mreturn\u001b[0m \u001b[0mleft\u001b[0m \u001b[0;34m-\u001b[0m \u001b[0mright\u001b[0m\u001b[0;34m\u001b[0m\u001b[0;34m\u001b[0m\u001b[0m\n\u001b[0;32m--> 109\u001b[0;31m         \u001b[0;32mreturn\u001b[0m \u001b[0m_convert_signed_num\u001b[0m\u001b[0;34m(\u001b[0m\u001b[0mnode\u001b[0m\u001b[0;34m)\u001b[0m\u001b[0;34m\u001b[0m\u001b[0;34m\u001b[0m\u001b[0m\n\u001b[0m\u001b[1;32m    110\u001b[0m     \u001b[0;32mreturn\u001b[0m \u001b[0m_convert\u001b[0m\u001b[0;34m(\u001b[0m\u001b[0mnode_or_string\u001b[0m\u001b[0;34m)\u001b[0m\u001b[0;34m\u001b[0m\u001b[0;34m\u001b[0m\u001b[0m\n\u001b[1;32m    111\u001b[0m \u001b[0;34m\u001b[0m\u001b[0m\n",
            "\u001b[0;32m/usr/lib/python3.10/ast.py\u001b[0m in \u001b[0;36m_convert_signed_num\u001b[0;34m(node)\u001b[0m\n\u001b[1;32m     81\u001b[0m             \u001b[0;32melse\u001b[0m\u001b[0;34m:\u001b[0m\u001b[0;34m\u001b[0m\u001b[0;34m\u001b[0m\u001b[0m\n\u001b[1;32m     82\u001b[0m                 \u001b[0;32mreturn\u001b[0m \u001b[0;34m-\u001b[0m \u001b[0moperand\u001b[0m\u001b[0;34m\u001b[0m\u001b[0;34m\u001b[0m\u001b[0m\n\u001b[0;32m---> 83\u001b[0;31m         \u001b[0;32mreturn\u001b[0m \u001b[0m_convert_num\u001b[0m\u001b[0;34m(\u001b[0m\u001b[0mnode\u001b[0m\u001b[0;34m)\u001b[0m\u001b[0;34m\u001b[0m\u001b[0;34m\u001b[0m\u001b[0m\n\u001b[0m\u001b[1;32m     84\u001b[0m     \u001b[0;32mdef\u001b[0m \u001b[0m_convert\u001b[0m\u001b[0;34m(\u001b[0m\u001b[0mnode\u001b[0m\u001b[0;34m)\u001b[0m\u001b[0;34m:\u001b[0m\u001b[0;34m\u001b[0m\u001b[0;34m\u001b[0m\u001b[0m\n\u001b[1;32m     85\u001b[0m         \u001b[0;32mif\u001b[0m \u001b[0misinstance\u001b[0m\u001b[0;34m(\u001b[0m\u001b[0mnode\u001b[0m\u001b[0;34m,\u001b[0m \u001b[0mConstant\u001b[0m\u001b[0;34m)\u001b[0m\u001b[0;34m:\u001b[0m\u001b[0;34m\u001b[0m\u001b[0;34m\u001b[0m\u001b[0m\n",
            "\u001b[0;32m/usr/lib/python3.10/ast.py\u001b[0m in \u001b[0;36m_convert_num\u001b[0;34m(node)\u001b[0m\n\u001b[1;32m     72\u001b[0m     \u001b[0;32mdef\u001b[0m \u001b[0m_convert_num\u001b[0m\u001b[0;34m(\u001b[0m\u001b[0mnode\u001b[0m\u001b[0;34m)\u001b[0m\u001b[0;34m:\u001b[0m\u001b[0;34m\u001b[0m\u001b[0;34m\u001b[0m\u001b[0m\n\u001b[1;32m     73\u001b[0m         \u001b[0;32mif\u001b[0m \u001b[0;32mnot\u001b[0m \u001b[0misinstance\u001b[0m\u001b[0;34m(\u001b[0m\u001b[0mnode\u001b[0m\u001b[0;34m,\u001b[0m \u001b[0mConstant\u001b[0m\u001b[0;34m)\u001b[0m \u001b[0;32mor\u001b[0m \u001b[0mtype\u001b[0m\u001b[0;34m(\u001b[0m\u001b[0mnode\u001b[0m\u001b[0;34m.\u001b[0m\u001b[0mvalue\u001b[0m\u001b[0;34m)\u001b[0m \u001b[0;32mnot\u001b[0m \u001b[0;32min\u001b[0m \u001b[0;34m(\u001b[0m\u001b[0mint\u001b[0m\u001b[0;34m,\u001b[0m \u001b[0mfloat\u001b[0m\u001b[0;34m,\u001b[0m \u001b[0mcomplex\u001b[0m\u001b[0;34m)\u001b[0m\u001b[0;34m:\u001b[0m\u001b[0;34m\u001b[0m\u001b[0;34m\u001b[0m\u001b[0m\n\u001b[0;32m---> 74\u001b[0;31m             \u001b[0m_raise_malformed_node\u001b[0m\u001b[0;34m(\u001b[0m\u001b[0mnode\u001b[0m\u001b[0;34m)\u001b[0m\u001b[0;34m\u001b[0m\u001b[0;34m\u001b[0m\u001b[0m\n\u001b[0m\u001b[1;32m     75\u001b[0m         \u001b[0;32mreturn\u001b[0m \u001b[0mnode\u001b[0m\u001b[0;34m.\u001b[0m\u001b[0mvalue\u001b[0m\u001b[0;34m\u001b[0m\u001b[0;34m\u001b[0m\u001b[0m\n\u001b[1;32m     76\u001b[0m     \u001b[0;32mdef\u001b[0m \u001b[0m_convert_signed_num\u001b[0m\u001b[0;34m(\u001b[0m\u001b[0mnode\u001b[0m\u001b[0;34m)\u001b[0m\u001b[0;34m:\u001b[0m\u001b[0;34m\u001b[0m\u001b[0;34m\u001b[0m\u001b[0m\n",
            "\u001b[0;32m/usr/lib/python3.10/ast.py\u001b[0m in \u001b[0;36m_raise_malformed_node\u001b[0;34m(node)\u001b[0m\n\u001b[1;32m     69\u001b[0m         \u001b[0;32mif\u001b[0m \u001b[0mlno\u001b[0m \u001b[0;34m:=\u001b[0m \u001b[0mgetattr\u001b[0m\u001b[0;34m(\u001b[0m\u001b[0mnode\u001b[0m\u001b[0;34m,\u001b[0m \u001b[0;34m'lineno'\u001b[0m\u001b[0;34m,\u001b[0m \u001b[0;32mNone\u001b[0m\u001b[0;34m)\u001b[0m\u001b[0;34m:\u001b[0m\u001b[0;34m\u001b[0m\u001b[0;34m\u001b[0m\u001b[0m\n\u001b[1;32m     70\u001b[0m             \u001b[0mmsg\u001b[0m \u001b[0;34m+=\u001b[0m \u001b[0;34mf' on line {lno}'\u001b[0m\u001b[0;34m\u001b[0m\u001b[0;34m\u001b[0m\u001b[0m\n\u001b[0;32m---> 71\u001b[0;31m         \u001b[0;32mraise\u001b[0m \u001b[0mValueError\u001b[0m\u001b[0;34m(\u001b[0m\u001b[0mmsg\u001b[0m \u001b[0;34m+\u001b[0m \u001b[0;34mf': {node!r}'\u001b[0m\u001b[0;34m)\u001b[0m\u001b[0;34m\u001b[0m\u001b[0;34m\u001b[0m\u001b[0m\n\u001b[0m\u001b[1;32m     72\u001b[0m     \u001b[0;32mdef\u001b[0m \u001b[0m_convert_num\u001b[0m\u001b[0;34m(\u001b[0m\u001b[0mnode\u001b[0m\u001b[0;34m)\u001b[0m\u001b[0;34m:\u001b[0m\u001b[0;34m\u001b[0m\u001b[0;34m\u001b[0m\u001b[0m\n\u001b[1;32m     73\u001b[0m         \u001b[0;32mif\u001b[0m \u001b[0;32mnot\u001b[0m \u001b[0misinstance\u001b[0m\u001b[0;34m(\u001b[0m\u001b[0mnode\u001b[0m\u001b[0;34m,\u001b[0m \u001b[0mConstant\u001b[0m\u001b[0;34m)\u001b[0m \u001b[0;32mor\u001b[0m \u001b[0mtype\u001b[0m\u001b[0;34m(\u001b[0m\u001b[0mnode\u001b[0m\u001b[0;34m.\u001b[0m\u001b[0mvalue\u001b[0m\u001b[0;34m)\u001b[0m \u001b[0;32mnot\u001b[0m \u001b[0;32min\u001b[0m \u001b[0;34m(\u001b[0m\u001b[0mint\u001b[0m\u001b[0;34m,\u001b[0m \u001b[0mfloat\u001b[0m\u001b[0;34m,\u001b[0m \u001b[0mcomplex\u001b[0m\u001b[0;34m)\u001b[0m\u001b[0;34m:\u001b[0m\u001b[0;34m\u001b[0m\u001b[0;34m\u001b[0m\u001b[0m\n",
            "\u001b[0;31mValueError\u001b[0m: malformed node or string: ['Romance', 'Science Fiction', 'Comedy']"
          ]
        }
      ]
    },
    {
      "cell_type": "code",
      "source": [
        "countries = list(movie_count_by_country.keys())\n",
        "\n",
        "# Convert the dictionary to a DataFrame\n",
        "df_movie_count = pd.DataFrame({\n",
        "    'name': countries,\n",
        "    'movie_count': list(movie_count_by_country.values())\n",
        "})\n",
        "df_movie_count = df_movie_count.sort_values(by='movie_count', ascending=False)\n",
        "\n",
        "df_movie_count.loc[df_movie_count[\"name\"] == \"USA\", \"name\"] = \"United States of America\"\n",
        "\n",
        "df_movie_count.loc[df_movie_count[\"name\"] == \"UK\", \"name\"] = \"United Kingdom\"\n",
        "\n",
        "df_movie_count.head()"
      ],
      "metadata": {
        "id": "0ar2o4n_hOQA"
      },
      "execution_count": null,
      "outputs": []
    },
    {
      "cell_type": "code",
      "source": [
        "# Plot the bar chart\n",
        "no_USA = df_movie_count.iloc[1:]\n",
        "no_USA = no_USA[no_USA[\"movie_count\"] > 1]\n",
        "no_USA.plot(kind='bar', x='name', y='movie_count', color='skyblue')\n",
        "\n",
        "# Add a title and axis labels\n",
        "plt.title('Number of Movies Watched by Country')\n",
        "plt.xlabel('Country')\n",
        "plt.ylabel('Number of Movies')\n",
        "plt.tight_layout()\n",
        "for y in range(10, 50, 10):\n",
        "    plt.axhline(y, color='gray', linestyle='--', alpha=0.5)\n",
        "\n",
        "plt.legend(title=\"Movies per Country\")\n",
        "\n",
        "# Rotate the x-axis labels for better readability\n",
        "plt.xticks(rotation=90)\n",
        "\n",
        "# Show the plot\n",
        "plt.show()\n",
        "no_USA.head()"
      ],
      "metadata": {
        "id": "_S8LcS8YueKK"
      },
      "execution_count": null,
      "outputs": []
    },
    {
      "cell_type": "markdown",
      "source": [
        "### Mapa"
      ],
      "metadata": {
        "id": "d2HQAkrOsNHP"
      }
    },
    {
      "cell_type": "code",
      "source": [
        "#Read the world data and show the header\n",
        "world = gpd.read_file(gpd.datasets.get_path('naturalearth_lowres'))\n",
        "world.head(), world.shape"
      ],
      "metadata": {
        "id": "hm7fPqvHqdbb"
      },
      "execution_count": null,
      "outputs": []
    },
    {
      "cell_type": "code",
      "source": [
        "#Use pyplot (plt) to plot a country map such as New Zealand\n",
        "fig, ax_nz = plt.subplots(figsize=(8,6))\n",
        "countries = gpd.read_file(gpd.datasets.get_path(\"naturalearth_lowres\"))\n",
        "countries[countries[\"name\"] == \"New Zealand\"].plot(cmap='Blues_r', ax=ax_nz)\n",
        "plt.show()"
      ],
      "metadata": {
        "id": "lNOnjnyxsupt"
      },
      "execution_count": null,
      "outputs": []
    },
    {
      "cell_type": "code",
      "source": [
        "test = pd.merge(world, df_movie_count, on=['name'], how='left')\n",
        "test['movie_count'] = test['movie_count'].fillna(0)\n",
        "test.loc[test[\"name\"] == \"United States of America\", \"movie_count\"] = 49\n",
        "test = test[test[\"movie_count\"] > 0]\n",
        "test = test.sort_values(by='movie_count', ascending=False)\n",
        "test[[\"name\", \"movie_count\"]]"
      ],
      "metadata": {
        "id": "0G-WvqFUsxbf"
      },
      "execution_count": null,
      "outputs": []
    },
    {
      "cell_type": "code",
      "source": [
        "ig, ax = plt.subplots(figsize=(12,6))\n",
        "my_cmap = []\n",
        "test.plot(column='movie_count', cmap=\"Oranges\", ax=ax, legend=True, legend_kwds={'label': \"Movies per Country\", 'orientation': \"horizontal\"})\n"
      ],
      "metadata": {
        "id": "J-U4DN38tw4L"
      },
      "execution_count": null,
      "outputs": []
    },
    {
      "cell_type": "code",
      "source": [],
      "metadata": {
        "id": "jHXZXKS4_UuH"
      },
      "execution_count": null,
      "outputs": []
    }
  ]
}